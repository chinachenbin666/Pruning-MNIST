{
 "cells": [
  {
   "cell_type": "markdown",
   "metadata": {},
   "source": [
    "# Importing the libraries"
   ]
  },
  {
   "cell_type": "code",
   "execution_count": 539,
   "metadata": {},
   "outputs": [
    {
     "name": "stdout",
     "output_type": "stream",
     "text": [
      "The autoreload extension is already loaded. To reload it, use:\n",
      "  %reload_ext autoreload\n"
     ]
    }
   ],
   "source": [
    "%load_ext autoreload\n",
    "%autoreload 2\n",
    "%matplotlib inline"
   ]
  },
  {
   "cell_type": "code",
   "execution_count": 540,
   "metadata": {},
   "outputs": [],
   "source": [
    "import torch\n",
    "from pathlib import Path\n",
    "import gzip, pickle\n",
    "from torch import nn\n",
    "from torch import tensor\n",
    "from torch.utils.data import DataLoader\n",
    "from torch import optim\n",
    "import requests\n",
    "from matplotlib import pyplot as plt\n",
    "import seaborn as sns\n",
    "import matplotlib as mpl\n",
    "import os\n",
    "import copy\n",
    "from math import ceil\n",
    "sns.set()"
   ]
  },
  {
   "cell_type": "code",
   "execution_count": 541,
   "metadata": {},
   "outputs": [],
   "source": [
    "mpl.rcParams['axes.titlesize'] = 16\n",
    "mpl.rcParams['axes.titleweight'] = 'normal'"
   ]
  },
  {
   "cell_type": "code",
   "execution_count": 542,
   "metadata": {},
   "outputs": [],
   "source": [
    "MNIST_URL = 'http://deeplearning.net/data/mnist/mnist.pkl.gz'\n",
    "MODEL_STATE_DICT_PATH = 'stage-1.pth'\n",
    "BATCH_SIZE = 64"
   ]
  },
  {
   "cell_type": "markdown",
   "metadata": {},
   "source": [
    "# Helper Methods "
   ]
  },
  {
   "cell_type": "markdown",
   "metadata": {},
   "source": [
    "## Method to download data"
   ]
  },
  {
   "cell_type": "code",
   "execution_count": 543,
   "metadata": {},
   "outputs": [],
   "source": [
    "def download_data(url):\n",
    "    \"\"\"\n",
    "    Downloads the data file from the url\n",
    "    \n",
    "    Args:\n",
    "        url (String): Url of the data file to be downloaded\n",
    "        \n",
    "    Returns:\n",
    "        The path to the file\n",
    "    \"\"\"\n",
    "    cwd= Path(os.getcwd())\n",
    "    file_name = url.split('/')[-1]\n",
    "    response = requests.get(url)\n",
    "    with open(file_name, 'wb') as file:\n",
    "        file.write(response.content)\n",
    "    return cwd/file_name"
   ]
  },
  {
   "cell_type": "markdown",
   "metadata": {},
   "source": [
    "## Method to load data from file "
   ]
  },
  {
   "cell_type": "code",
   "execution_count": 544,
   "metadata": {},
   "outputs": [],
   "source": [
    "def get_data(path):\n",
    "    \"\"\"\n",
    "    Loads the data from the file system into Pytorch tensors\n",
    "    \n",
    "    Args: \n",
    "        path (pathlib.Path): Path to the file\n",
    "        \n",
    "    Returns:\n",
    "        Pytorch tensors for X_train, y_train, X_valid, y_valid, X_test, y_test\n",
    "    \"\"\"\n",
    "    with gzip.open(path) as file:\n",
    "        ((X_train,y_train),(X_valid, y_valid),(X_test,y_test)) = pickle.load(file, encoding='latin-1')\n",
    "        return map(tensor, (X_train,y_train, X_valid, y_valid, X_test, y_test))"
   ]
  },
  {
   "cell_type": "markdown",
   "metadata": {},
   "source": [
    "## Dataset Class"
   ]
  },
  {
   "cell_type": "code",
   "execution_count": 545,
   "metadata": {},
   "outputs": [],
   "source": [
    "class Dataset():\n",
    "    \"\"\"\n",
    "    Stores the X and y variables together as a Dataset\n",
    "    \n",
    "    Example usage:\n",
    "        train_ds = Dataset(X_train,y_train)\n",
    "        X,y = train_ds[:10]\n",
    "        \n",
    "        Here the train_ds will return the first 10 elements of both X_train and y_train\n",
    "        \n",
    "    \"\"\"\n",
    "    def __init__(self, X, y):\n",
    "        \"\"\"\n",
    "        To initialize the Dataset Class.\n",
    "        \n",
    "        Args:\n",
    "            X (torch.tensor): Data\n",
    "            y (torch.tensor): Label for data\n",
    "            \n",
    "        \"\"\"\n",
    "        self.X, self.y = X, y\n",
    "        \n",
    "    def __len__(self):\n",
    "        \"\"\"\n",
    "        Allows the usage of len() functions\n",
    "        \n",
    "        Returns:\n",
    "            length of X\n",
    "        \"\"\"\n",
    "        return len(self.X)\n",
    "    \n",
    "    def __getitem__(self,idx):\n",
    "        \"\"\"\n",
    "        Allows the usage of indexing on the Dataset\n",
    "        \n",
    "        Args:\n",
    "            idx : list style index        \n",
    "            \n",
    "        Returns: \n",
    "            elements at the index 'idx' for both X and y\n",
    "            \n",
    "        \"\"\"\n",
    "        return self.X[idx],self.y[idx]"
   ]
  },
  {
   "cell_type": "markdown",
   "metadata": {},
   "source": [
    "## Method to prepare the DataLoaders for train and validation data"
   ]
  },
  {
   "cell_type": "code",
   "execution_count": 546,
   "metadata": {},
   "outputs": [],
   "source": [
    "def get_dls():\n",
    "    \"\"\"\n",
    "    Creates DataLoaders for training and validation data.\n",
    "    \n",
    "    Returns:\n",
    "        Training Dataloader, Validation DataLoader\n",
    "    \"\"\"\n",
    "    return (DataLoader(Dataset(X_train,y_train), batch_size=BATCH_SIZE,shuffle=True,drop_last=True),\n",
    "           DataLoader(Dataset(X_valid,y_valid), batch_size=BATCH_SIZE,shuffle=False))"
   ]
  },
  {
   "cell_type": "markdown",
   "metadata": {},
   "source": [
    "## Method to get the model and the optimizer"
   ]
  },
  {
   "cell_type": "code",
   "execution_count": 555,
   "metadata": {},
   "outputs": [],
   "source": [
    "def get_model(pct_sparsity=0.,use_gpu=True):\n",
    "    \"\"\"\n",
    "    Creates a Pytorch nn.Sequential Model with the specified layers and a SGD optimizer.\n",
    "    \n",
    "    Args: \n",
    "        use_gpu: (boolean) If True loads the model on the GPU. If False, uses CPU\n",
    "        \n",
    "    Returns:\n",
    "        Model and optimizer\n",
    "    \"\"\"\n",
    "    pct_units = round(1 - pct_sparsity,2)\n",
    "    model = nn.Sequential(nn.Linear(784,int(1000*pct_units),bias=False),\n",
    "                          nn.ReLU(),\n",
    "                          nn.Linear(int(1000*pct_units),int(1000*pct_units),bias=False),\n",
    "                          nn.ReLU(),\n",
    "                          nn.Linear(int(1000*pct_units),int(500*pct_units),bias=False),\n",
    "                          nn.ReLU(),\n",
    "                          nn.Linear(int(500*pct_units),int(200*pct_units),bias=False),\n",
    "                          nn.ReLU(),\n",
    "                          nn.Linear(int(200*pct_units),10,bias=False)\n",
    "                         )\n",
    "    \n",
    "    if use_gpu:\n",
    "        return model.cuda()\n",
    "    \n",
    "    return model\n",
    "    \n",
    "\n",
    "def get_optimizer(model,lr=0.1):\n",
    "    \"\"\"\n",
    "    Creates SGD optimizer with the model parameters and learning rate\n",
    "    \n",
    "    Args:\n",
    "        model : nn.Module model \n",
    "        lr (float): learning rate for the optimizer\n",
    "        \n",
    "    Returns: \n",
    "        returns an optimizer\n",
    "    \"\"\"\n",
    "    \n",
    "    return optim.SGD(model.parameters(), lr=lr)"
   ]
  },
  {
   "cell_type": "markdown",
   "metadata": {},
   "source": [
    "# Method to calculate accuracy"
   ]
  },
  {
   "cell_type": "code",
   "execution_count": 556,
   "metadata": {},
   "outputs": [],
   "source": [
    "def accuracy(preds, y): \n",
    "    \"\"\" Calculates the accuracy of input batch \"\"\"\n",
    "    return (torch.argmax(preds,dim=1) == y).float().mean()"
   ]
  },
  {
   "cell_type": "markdown",
   "metadata": {},
   "source": [
    "## Average Metrics (Weighted average)"
   ]
  },
  {
   "cell_type": "code",
   "execution_count": 557,
   "metadata": {},
   "outputs": [],
   "source": [
    "def average_metrics(dataloader,model,metrics=[],use_gpu=True):\n",
    "    \"\"\"\n",
    "    Calculates the weighted average metrics, weighted by the batch size.\n",
    "    This ensures the correctness of the average metrics calculated even if the batch size changes\n",
    "    \n",
    "    Args: \n",
    "        dataloader (DataLoader) : DataLoader for the required dataset. Preferably the validation set.\n",
    "        metrics (list) : A list of metrics. Each metric passed in the list should be a function.\n",
    "        use_gpu: (boolean) If True loads the data batch on the GPU. If False, keeps the data batch on CPU\n",
    "\n",
    "    Returns:\n",
    "        List of average metrics in the order passed in the metrics list.\n",
    "        \n",
    "    \"\"\"\n",
    "    with torch.no_grad():\n",
    "        count = 0\n",
    "        tot_metrics = [0. for _ in metrics]\n",
    "        for xb,yb in dataloader:\n",
    "            if use_gpu:\n",
    "                xb, yb = xb.cuda(), yb.cuda()\n",
    "                \n",
    "            bs=len(xb)\n",
    "            for idx, metric in enumerate(metrics):\n",
    "                tot_metrics[idx] += metric(model(xb),yb) * bs  # metric * batch_size for weighted average\n",
    "\n",
    "            count += bs\n",
    "\n",
    "        avg_metrics = list()\n",
    "        for metric in tot_metrics:\n",
    "            avg_metrics.append(metric/count)\n",
    "\n",
    "        return avg_metrics\n",
    "        "
   ]
  },
  {
   "cell_type": "markdown",
   "metadata": {},
   "source": [
    "## Fit function"
   ]
  },
  {
   "cell_type": "code",
   "execution_count": 558,
   "metadata": {},
   "outputs": [],
   "source": [
    "def fit(epochs,use_gpu=True):\n",
    "    \"\"\"\n",
    "    The fit function contains the training loop. Prints the validation accuracy and validation loss\n",
    "    \n",
    "    Args: \n",
    "        epochs: Number of epochs to fit\n",
    "        use_gpu: (boolean) If True loads the data batch on the GPU. If False, keeps the data batch on CPU\n",
    "    \n",
    "    \"\"\"\n",
    "    for epoch in range(epochs):       # for each epoch\n",
    "        for xb,yb in train_dl:        # for each batch in the train_dl\n",
    "            if use_gpu:\n",
    "                xb, yb = xb.cuda(), yb.cuda()\n",
    "            preds = model(xb)  # predictions are calculated in the forward pass\n",
    "            loss = loss_func(preds,yb)  # loss is calculated\n",
    "            loss.backward()           # the gradients are accumulated\n",
    "            opt.step()                # weights are updated by 'lr * gradients'\n",
    "            opt.zero_grad()           # gradients are set to zeros\n",
    "        with torch.no_grad():\n",
    "            print(average_metrics(valid_dl,model,[accuracy,loss_func],use_gpu))"
   ]
  },
  {
   "cell_type": "markdown",
   "metadata": {},
   "source": [
    "# Loading the data"
   ]
  },
  {
   "cell_type": "code",
   "execution_count": 559,
   "metadata": {},
   "outputs": [
    {
     "data": {
      "text/plain": [
       "(torch.Size([50000, 784]),\n",
       " torch.Size([50000]),\n",
       " torch.Size([10000, 784]),\n",
       " torch.Size([10000]),\n",
       " torch.Size([10000, 784]),\n",
       " torch.Size([10000]))"
      ]
     },
     "execution_count": 559,
     "metadata": {},
     "output_type": "execute_result"
    }
   ],
   "source": [
    "path = download_data(MNIST_URL)\n",
    "\n",
    "X_train, y_train, X_valid, y_valid, X_test, y_test = get_data(path)\n",
    "X_train.shape, y_train.shape, X_valid.shape, y_valid.shape, X_test.shape, y_test.shape"
   ]
  },
  {
   "cell_type": "markdown",
   "metadata": {},
   "source": [
    "# Model, Optimizer, Loss function and Dataloaders"
   ]
  },
  {
   "cell_type": "code",
   "execution_count": 560,
   "metadata": {},
   "outputs": [
    {
     "data": {
      "text/plain": [
       "(Sequential(\n",
       "   (0): Linear(in_features=784, out_features=1000, bias=False)\n",
       "   (1): ReLU()\n",
       "   (2): Linear(in_features=1000, out_features=1000, bias=False)\n",
       "   (3): ReLU()\n",
       "   (4): Linear(in_features=1000, out_features=500, bias=False)\n",
       "   (5): ReLU()\n",
       "   (6): Linear(in_features=500, out_features=200, bias=False)\n",
       "   (7): ReLU()\n",
       "   (8): Linear(in_features=200, out_features=10, bias=False)\n",
       " ), SGD (\n",
       " Parameter Group 0\n",
       "     dampening: 0\n",
       "     lr: 0.1\n",
       "     momentum: 0\n",
       "     nesterov: False\n",
       "     weight_decay: 0\n",
       " ))"
      ]
     },
     "execution_count": 560,
     "metadata": {},
     "output_type": "execute_result"
    }
   ],
   "source": [
    "loss_func = nn.CrossEntropyLoss()\n",
    "train_dl, valid_dl = get_dls()\n",
    "model = get_model()\n",
    "opt = get_optimizer(model)\n",
    "model, opt"
   ]
  },
  {
   "cell_type": "markdown",
   "metadata": {},
   "source": [
    "# Fitting the model"
   ]
  },
  {
   "cell_type": "code",
   "execution_count": 561,
   "metadata": {},
   "outputs": [
    {
     "name": "stdout",
     "output_type": "stream",
     "text": [
      "[tensor(0.9419, device='cuda:0'), tensor(0.1947, device='cuda:0')]\n",
      "[tensor(0.9621, device='cuda:0'), tensor(0.1267, device='cuda:0')]\n",
      "[tensor(0.9683, device='cuda:0'), tensor(0.1041, device='cuda:0')]\n",
      "[tensor(0.9740, device='cuda:0'), tensor(0.0887, device='cuda:0')]\n"
     ]
    }
   ],
   "source": [
    "fit(4)"
   ]
  },
  {
   "cell_type": "markdown",
   "metadata": {},
   "source": [
    "#  Save the state_dict"
   ]
  },
  {
   "cell_type": "code",
   "execution_count": 562,
   "metadata": {},
   "outputs": [],
   "source": [
    "torch.save(model.state_dict(),MODEL_STATE_DICT_PATH)"
   ]
  },
  {
   "cell_type": "code",
   "execution_count": 563,
   "metadata": {},
   "outputs": [],
   "source": [
    "class Learner():\n",
    "    def __init__(self, model,train_dl, valid_dl):\n",
    "        self.model, self.train_dl, self.valid_dl = model, train_dl, valid_dl"
   ]
  },
  {
   "cell_type": "markdown",
   "metadata": {},
   "source": [
    "# Pruning"
   ]
  },
  {
   "cell_type": "markdown",
   "metadata": {},
   "source": [
    "Now that we have fit the model, we have got a reasonable accuracy to start with. We can no start with pruning the weights of the network. \n",
    "\n",
    "Given a layer of a neural network ReLU are two well-known ways to prune it:\n",
    "\n",
    "**Weight pruning** : \n",
    "* Set individual weights in the weight matrix to zero. This corresponds to deleting connections.\n",
    "* Here, to achieve sparsity of k% we rank the individual weights in weight matrix W according to their magnitude (absolute value), and then set to zero the smallest k%.\n",
    "\n",
    "**Unit/Neuron pruning** : \n",
    "* Set entire columns to zero in the weight matrix, in effect deleting the corresponding output neuron.\n",
    "* Here to achieve sparsity of k% we rank the columns of a weight matrix according to their L2-norm and delete the smallest k%."
   ]
  },
  {
   "cell_type": "code",
   "execution_count": 564,
   "metadata": {},
   "outputs": [],
   "source": [
    "class Pruner():\n",
    "    \"\"\" \n",
    "    Base Class for Pruning   \n",
    "    \n",
    "    \"\"\"\n",
    "    \n",
    "    def __init__(self, k_list,state_dict,learner,metrics=[],save_weights=False,use_gpu=True):\n",
    "        \n",
    "        \"\"\" \n",
    "        Inits the Pruner Class\n",
    "        \n",
    "        \n",
    "        Args: \n",
    "        \n",
    "        k_list : List of k's for pruning k% of weights or units\n",
    "        state_dict : State dictionary of trained model\n",
    "        metrics : list of metrics to calculate\n",
    "\n",
    "        \"\"\"\n",
    "        self.k_list, self.state_dict, self.learner, self.save_weights, self.use_gpu = k_list, state_dict, learner, save_weights, use_gpu\n",
    "        self.orig_metrics = list()\n",
    "        self.metrics = list()\n",
    "        self.metrics_dict = dict()\n",
    "        for name,metric in metrics:\n",
    "            self.metrics_dict[name] =list()\n",
    "            self.metrics.append(metric)\n",
    "            \n",
    "    def prune(self):\n",
    "        \"\"\" \n",
    "        Base for pruning. The logic is to load the weights from the state_dictionary, go through each layer(not the activation layers),\n",
    "        call the _prune function, get the pruned weights and update the weights of the layer with the pruned weights.\n",
    "        Also calculates and stores the accuracy and loss for each value of k in k_list\n",
    "\n",
    "        \"\"\"\n",
    "        with torch.no_grad():\n",
    "            model = self._get_model()\n",
    "            self.orig_metrics = average_metrics(self.learner.valid_dl, model, self.metrics,self.use_gpu)\n",
    "            \n",
    "            for k in self.k_list:\n",
    "                model_ = copy.deepcopy(model)\n",
    "                model_.load_state_dict(self.state_dict)  # load state from state\n",
    "                \n",
    "                layers = [ _ for _ in model_ if hasattr(_,'weight')]\n",
    "                for idx,layer in enumerate(layers[:-1]):\n",
    "                    pruned_weights = self._prune(layer,k)\n",
    "                    pruned_weights = pruned_weights.cuda() if self.use_gpu else pruned_weights\n",
    "                    layers[idx].weight = nn.Parameter(pruned_weights)\n",
    "                \n",
    "                layers = self._update_final_layer(layers)\n",
    "                self._save_weights(model_,k)\n",
    "                self._calculate_metrics(model_)\n",
    "                \n",
    "                \n",
    "    def _prune(self, layer, k):\n",
    "        \"\"\"\n",
    "        Method to be implemented by the subclass\n",
    "        \"\"\"\n",
    "        raise NotImplementedError\n",
    "    \n",
    "    def _update_final_layer(self, layers):\n",
    "        \"\"\"\n",
    "        Implementationt to Update the final layer of the model\n",
    "        \"\"\"\n",
    "        return layers\n",
    "    \n",
    "    def _save_weights(self, model,k):\n",
    "        \"\"\"\n",
    "        Saves the model is self.save_weights is True\n",
    "        \"\"\"\n",
    "        if self.save_weights: \n",
    "            torch.save(model.state_dict(),f'{self.type}{\"sparse\" if hasattr(self,\"sparse\") and self.sparse else \"\"}_sparsity_{k}.pth')\n",
    "        \n",
    "    def _calculate_metrics(self,model):\n",
    "        \"\"\"\n",
    "        Saves the average metrics to the corresponding list\n",
    "        \"\"\"\n",
    "        metrics = average_metrics(self.learner.valid_dl, model, self.metrics, self.use_gpu)\n",
    "\n",
    "        for idx,(metric_name,_) in enumerate(list(self.metrics_dict.items())):\n",
    "            self.metrics_dict[metric_name].append(metrics[idx])\n",
    "                    \n",
    "    def _get_model(self):\n",
    "        model= self.learner.model\n",
    "        model.load_state_dict(self.state_dict)\n",
    "        return model"
   ]
  },
  {
   "cell_type": "markdown",
   "metadata": {},
   "source": [
    "## Implementation for Weight Pruning"
   ]
  },
  {
   "cell_type": "code",
   "execution_count": 565,
   "metadata": {},
   "outputs": [],
   "source": [
    "class WeightPruner(Pruner):\n",
    "    \"\"\"\n",
    "    Weight Pruning: \n",
    "        Implements _prune method for weight pruning, where the smallest k% of the weights will be set to zero.   \n",
    "    \n",
    "    \"\"\"\n",
    "        \n",
    "    def __init__(self, k_list,state_dict,learner, metrics=[],save_weights=False,use_gpu=True):\n",
    "        \"\"\"\n",
    "        Inits the UnitPruner\n",
    "        \n",
    "        Args:\n",
    "            k_list : List of k's for pruning k% of weights or units\n",
    "            state_dict : State dictionary of trained model\n",
    "            metrics : list of metrics to calculate\n",
    "            save_weights (boolean) : sets the save_weights flag. If True, save the file to disk with name 'sparsity-'\n",
    "        \"\"\"\n",
    "        super().__init__(k_list,state_dict,learner, metrics=metrics,save_weights=save_weights,use_gpu=use_gpu)\n",
    "        self.type = 'weight'\n",
    "        \n",
    "    def _prune(self,layer,k):\n",
    "        \"\"\"\n",
    "        Core implementation of weight pruning. The logic is to get the weights of the passed layer, flatten the weight matrix, \n",
    "        get the absolute values, sort them, and get the indices of the first k% of the sorted values and set them to zero.\n",
    "        \n",
    "        Args:\n",
    "            layer: layer of the model being pruned\n",
    "            k : percentage of pruning to be performed\n",
    "            \n",
    "        Returns:\n",
    "            pruned weights is returned\n",
    "            \n",
    "        \"\"\"\n",
    "        weights = layer.weight\n",
    "        if k > 0:\n",
    "            flat = weights.view(-1)\n",
    "            sorted_weights = self._sort(flat)\n",
    "            k_position = int(0.01*k*len(flat))\n",
    "            flat = self._update_weights(flat, sorted_weights[1], k_position)\n",
    "        \n",
    "        return weights\n",
    "    \n",
    "    def _sort(self,weights):\n",
    "        \"\"\" Sort implementation for weight pruning \"\"\"\n",
    "        return weights.abs().sort()\n",
    "    \n",
    "    def _update_weights(self, weights, indices, k_position):\n",
    "        weights[indices[:k_position]] = 0.\n",
    "        return weights\n",
    "    "
   ]
  },
  {
   "cell_type": "markdown",
   "metadata": {},
   "source": [
    "## Implementation for Unit Pruning"
   ]
  },
  {
   "cell_type": "code",
   "execution_count": 566,
   "metadata": {},
   "outputs": [],
   "source": [
    "class UnitPruner(Pruner):\n",
    "    \"\"\"\n",
    "    Unit/ Neuron pruning: \n",
    "        Implements _prune method for unit/neuron pruning, where the neurons with smallest k% L2 norm of the weights will be set to zero.\n",
    "                    \n",
    "    \"\"\"\n",
    "    \n",
    "    def __init__(self, k_list, state_dict,learner, metrics=[], save_weights=False,sparse=False,use_gpu=True):\n",
    "        \"\"\"\n",
    "        Inits the UnitPruner\n",
    "        \n",
    "        Args:\n",
    "            k_list : List of k's for pruning k% of weights or units\n",
    "            state_dict : State dictionary of trained model\n",
    "            metrics : list of metrics to calculate\n",
    "            \n",
    "        \"\"\"\n",
    "        super().__init__(k_list, state_dict,learner ,metrics=metrics, save_weights=save_weights, use_gpu=use_gpu)\n",
    "        self.type = 'unit'\n",
    "        self.units_kept = None\n",
    "        self.sparse = sparse\n",
    "        \n",
    "    def _prune(self, layer, k):\n",
    "        \"\"\"\n",
    "        Core implementation of unit/ neuron pruning. The logic is to get the weights of the passed layer, get the l2 norm of the weights\n",
    "        across the dim = 1, i.e. for each neuron, then sort the l2 norms,  get the indices of the first k% of the sorted values and set them to zero\n",
    "        \n",
    "        Args:\n",
    "            layer: layer of the model being pruned\n",
    "            k : percentage of pruning to be performed\n",
    "            \n",
    "        Returns:\n",
    "            pruned weights is returned\n",
    "        \n",
    "        \"\"\"\n",
    "        weights = layer.weight\n",
    "        if k > 0:\n",
    "            sorted_weights = self._sort(weights)\n",
    "            k_position= int(0.01*k*len(sorted_weights[0]))\n",
    "            weights = self._update_connections(weights)\n",
    "            weights = self._update_weights(weights, sorted_weights[1], k_position)  # update the weights\n",
    "           \n",
    "        return weights\n",
    "    \n",
    "    def _sort(self,weights):\n",
    "        \"\"\"\n",
    "        Sort implementation for unit pruning \n",
    "        \n",
    "        Args: \n",
    "            weights: weight matrix\n",
    "        \n",
    "        Return: \n",
    "            returns the tuple of sorted tensor and tensor of indices\n",
    "        \n",
    "        \"\"\"\n",
    "        \n",
    "        return weights.pow(2).sum(dim=1).sqrt().sort()\n",
    "    \n",
    "    def _update_connections(self, weights):\n",
    "        \"\"\"\n",
    "        Deletes the previous layer's neuron's connection entries in the weight matrix of the current layer. \n",
    "        Checks if the units_kept is not None. If not None, it means that the current layer is not the first layer, deletes the corresponding entry from the current layer. \n",
    "        \n",
    "        Args: \n",
    "            weights: weight matrix\n",
    "        \n",
    "        Returns:\n",
    "            returns the updated weights\n",
    "        \n",
    "        \"\"\"\n",
    "        if self.units_kept is not None:\n",
    "            return weights[:,self.units_kept]\n",
    "        return weights\n",
    "                \n",
    "    def _update_weights(self, weights, sorted_indices, k_position):\n",
    "        \"\"\"\n",
    "        Updates the weights based on the prune logic. Also has the implementation for the sparse version. \n",
    "        Sparse version deletes the units where as the non sparse version\n",
    "        \"\"\"\n",
    "        if self.sparse:\n",
    "            indices = sorted_indices[k_position:].sort()[0]  # gets the indices of the units to be kept and sorts it\n",
    "            weights = weights[indices]  # updates the weights\n",
    "            self.units_kept = indices  # self the units kept\n",
    "        \n",
    "        else:\n",
    "            weights[sorted_indices[:k_position]] = 0.\n",
    "            \n",
    "        return weights\n",
    "    \n",
    "    def _update_final_layer(self,layers):\n",
    "        if self.type == 'unit' and self.units_kept is not None:\n",
    "            layers[-1].weight = nn.Parameter(layers[-1].weight[:,self.units_kept])\n",
    "            self.units_kept = None\n",
    "        return layers"
   ]
  },
  {
   "cell_type": "code",
   "execution_count": 567,
   "metadata": {},
   "outputs": [],
   "source": [
    "def plot_accuracies(pruner):\n",
    "    \"\"\"\n",
    "    Plots the accuracies for each k value of the pruner. Also plots the original accuracy with no pruning.\n",
    "    \n",
    "    Args: \n",
    "        pruner : Object of type Pruner\n",
    "        \n",
    "    \"\"\"\n",
    "    plt.figure(figsize=(10,8))\n",
    "    plt.plot(pruner.k_list,pruner.metrics_dict['accuracy'],color='red',marker='o')\n",
    "    plt.plot(pruner.k_list,[pruner.orig_metrics[0]]*len(pruner.k_list),color='blue',marker='o')\n",
    "#     plt.xticks(pruner.k_list,rotation='90')\n",
    "    for k,metric in zip(pruner.k_list,pruner.metrics_dict['accuracy']):\n",
    "        label = \"{:.4f}\".format(metric)\n",
    "        plt.annotate(label,\n",
    "                     (k,metric),\n",
    "                     textcoords=\"offset points\",\n",
    "                     xytext=(10,10),\n",
    "                     ha='center')\n",
    "    plt.xlabel('Percent Sparsity')\n",
    "    plt.ylabel('Percent Accuracy')\n",
    "    plt.title(f'Effect of {pruner.type} pruning on accuracy')\n",
    "    plt.show()\n"
   ]
  },
  {
   "cell_type": "code",
   "execution_count": 568,
   "metadata": {},
   "outputs": [],
   "source": [
    "def plot_losses(pruner):\n",
    "    \"\"\"\n",
    "    Plots the loss for each k value for the pruner. Also plots the original loss with no pruning.\n",
    "    \n",
    "    Args: \n",
    "        pruner : Object of type Pruner\n",
    "        \n",
    "    \"\"\"\n",
    "    plt.figure(figsize=(10,8))\n",
    "    plt.plot(pruner.k_list,pruner.metrics_dict['loss'],color='red',marker='o')\n",
    "    plt.plot(pruner.k_list,[pruner.orig_metrics[1]]*len(pruner.k_list),color='blue',marker='o')\n",
    "#     plt.xticks(k_list,rotation=90)\n",
    "    for k,metric in zip(pruner.k_list,pruner.metrics_dict['loss']):\n",
    "        label = \"{:.4f}\".format(metric)\n",
    "        plt.annotate(label,\n",
    "                     (k,metric),\n",
    "                     textcoords=\"offset points\",\n",
    "                     xytext=(10,10),\n",
    "                     ha='center')\n",
    "    plt.xlabel('Percent Sparsity')\n",
    "    plt.ylabel('Percent Loss')\n",
    "    plt.title(f'Effect of {pruner.type} pruning on loss')\n",
    "    plt.show()"
   ]
  },
  {
   "cell_type": "code",
   "execution_count": 580,
   "metadata": {},
   "outputs": [],
   "source": [
    "def run_pruning(pruner):\n",
    "    pruner.prune()\n",
    "    plot_accuracies(pruner)"
   ]
  },
  {
   "cell_type": "markdown",
   "metadata": {},
   "source": [
    "#### The list of k's as specified in the challenge description"
   ]
  },
  {
   "cell_type": "code",
   "execution_count": 581,
   "metadata": {},
   "outputs": [],
   "source": [
    "k_list = [0, 25, 50, 60, 70, 80, 90, 95, 97, 99]\n",
    "metrics = [('accuracy',accuracy), ('loss',loss_func)]"
   ]
  },
  {
   "cell_type": "code",
   "execution_count": 582,
   "metadata": {},
   "outputs": [],
   "source": [
    "learner = Learner(get_model(),train_dl, valid_dl)"
   ]
  },
  {
   "cell_type": "code",
   "execution_count": 583,
   "metadata": {},
   "outputs": [
    {
     "data": {
      "image/png": "[encoded data removed]",
      "text/plain": [
       "<Figure size 720x576 with 1 Axes>"
      ]
     },
     "metadata": {},
     "output_type": "display_data"
    },
    {
     "name": "stdout",
     "output_type": "stream",
     "text": [
      "CPU times: user 3.67 s, sys: 174 ms, total: 3.84 s\n",
      "Wall time: 4.09 s\n"
     ]
    }
   ],
   "source": [
    "%%time\n",
    "run_pruning(WeightPruner(k_list, torch.load(MODEL_STATE_DICT_PATH),learner,metrics,save_weights=True,use_gpu=True))"
   ]
  },
  {
   "cell_type": "code",
   "execution_count": 584,
   "metadata": {},
   "outputs": [
    {
     "data": {
      "image/png": "[encoded data removed]",
      "text/plain": [
       "<Figure size 720x576 with 1 Axes>"
      ]
     },
     "metadata": {},
     "output_type": "display_data"
    },
    {
     "name": "stdout",
     "output_type": "stream",
     "text": [
      "CPU times: user 3.97 s, sys: 178 ms, total: 4.15 s\n",
      "Wall time: 4.73 s\n"
     ]
    }
   ],
   "source": [
    "%%time\n",
    "run_pruning(UnitPruner(k_list,torch.load(MODEL_STATE_DICT_PATH),learner,metrics,save_weights=True))"
   ]
  },
  {
   "cell_type": "code",
   "execution_count": 585,
   "metadata": {
    "scrolled": false
   },
   "outputs": [
    {
     "data": {
      "image/png": "[encoded data removed]",
      "text/plain": [
       "<Figure size 720x576 with 1 Axes>"
      ]
     },
     "metadata": {},
     "output_type": "display_data"
    },
    {
     "name": "stdout",
     "output_type": "stream",
     "text": [
      "CPU times: user 3.69 s, sys: 105 ms, total: 3.8 s\n",
      "Wall time: 3.87 s\n"
     ]
    }
   ],
   "source": [
    "%%time\n",
    "run_pruning(UnitPruner(k_list,torch.load(MODEL_STATE_DICT_PATH),learner,metrics,save_weights=True,sparse=True))"
   ]
  },
  {
   "cell_type": "markdown",
   "metadata": {},
   "source": [
    "# Model Speed Experiment"
   ]
  },
  {
   "cell_type": "code",
   "execution_count": 575,
   "metadata": {},
   "outputs": [],
   "source": [
    "model = get_model(pct_sparsity=0.5, use_gpu=False)\n",
    "model.load_state_dict(torch.load('unitsparse_sparsity_50.pth'))"
   ]
  },
  {
   "cell_type": "markdown",
   "metadata": {},
   "source": [
    "Time for running 50% sparsity"
   ]
  },
  {
   "cell_type": "code",
   "execution_count": 467,
   "metadata": {},
   "outputs": [
    {
     "name": "stdout",
     "output_type": "stream",
     "text": [
      "142 ms ± 33.3 ms per loop (mean ± std. dev. of 7 runs, 10 loops each)\n"
     ]
    }
   ],
   "source": [
    "%%timeit -n 10\n",
    "model(valid_dl.dataset.X)"
   ]
  },
  {
   "cell_type": "code",
   "execution_count": 433,
   "metadata": {},
   "outputs": [],
   "source": [
    "model = get_model(pct_sparsity=0.6,use_gpu=False)\n",
    "model.load_state_dict(torch.load(\"unitsparse_sparsity_60.pth\"))"
   ]
  },
  {
   "cell_type": "markdown",
   "metadata": {},
   "source": [
    "Time for running 60% sparsity"
   ]
  },
  {
   "cell_type": "code",
   "execution_count": 434,
   "metadata": {},
   "outputs": [
    {
     "name": "stdout",
     "output_type": "stream",
     "text": [
      "91.5 ms ± 28.4 ms per loop (mean ± std. dev. of 7 runs, 10 loops each)\n"
     ]
    }
   ],
   "source": [
    "%%timeit -n 10\n",
    "model(valid_dl.dataset.X)"
   ]
  },
  {
   "cell_type": "code",
   "execution_count": 435,
   "metadata": {},
   "outputs": [],
   "source": [
    "model = get_model(pct_sparsity=0.7,use_gpu=False)\n",
    "model.load_state_dict(torch.load(\"unitsparse_sparsity_70.pth\"))"
   ]
  },
  {
   "cell_type": "markdown",
   "metadata": {},
   "source": [
    "Time for running 70% sparsity"
   ]
  },
  {
   "cell_type": "code",
   "execution_count": 436,
   "metadata": {},
   "outputs": [
    {
     "name": "stdout",
     "output_type": "stream",
     "text": [
      "65.5 ms ± 16.3 ms per loop (mean ± std. dev. of 7 runs, 10 loops each)\n"
     ]
    }
   ],
   "source": [
    "%%timeit -n 10\n",
    "model(valid_dl.dataset.X)"
   ]
  },
  {
   "cell_type": "code",
   "execution_count": 437,
   "metadata": {},
   "outputs": [],
   "source": [
    "model = get_model(pct_sparsity=0.8,use_gpu=False)\n",
    "model.load_state_dict(torch.load(\"unitsparse_sparsity_80.pth\"))"
   ]
  },
  {
   "cell_type": "markdown",
   "metadata": {},
   "source": [
    "Time for running 80% sparsity"
   ]
  },
  {
   "cell_type": "code",
   "execution_count": 438,
   "metadata": {},
   "outputs": [
    {
     "name": "stdout",
     "output_type": "stream",
     "text": [
      "39.7 ms ± 13.3 ms per loop (mean ± std. dev. of 7 runs, 10 loops each)\n"
     ]
    }
   ],
   "source": [
    "%%timeit -n 10\n",
    "model(valid_dl.dataset.X)"
   ]
  },
  {
   "cell_type": "code",
   "execution_count": 439,
   "metadata": {},
   "outputs": [],
   "source": [
    "model = get_model(pct_sparsity=0.9,use_gpu=False)\n",
    "model.load_state_dict(torch.load(\"unitsparse_sparsity_90.pth\"))"
   ]
  },
  {
   "cell_type": "markdown",
   "metadata": {},
   "source": [
    "Time for running 90% sparsity"
   ]
  },
  {
   "cell_type": "code",
   "execution_count": 440,
   "metadata": {},
   "outputs": [
    {
     "name": "stdout",
     "output_type": "stream",
     "text": [
      "25.5 ms ± 11.5 ms per loop (mean ± std. dev. of 7 runs, 10 loops each)\n"
     ]
    }
   ],
   "source": [
    "%%timeit -n 10\n",
    "model(valid_dl.dataset.X)"
   ]
  },
  {
   "cell_type": "code",
   "execution_count": 441,
   "metadata": {},
   "outputs": [],
   "source": [
    "model = get_model(pct_sparsity=0.95,use_gpu=False)\n",
    "model.load_state_dict(torch.load(\"unitsparse_sparsity_95.pth\"))"
   ]
  },
  {
   "cell_type": "markdown",
   "metadata": {},
   "source": [
    "Time for running 95% sparsity"
   ]
  },
  {
   "cell_type": "code",
   "execution_count": 442,
   "metadata": {
    "scrolled": true
   },
   "outputs": [
    {
     "name": "stdout",
     "output_type": "stream",
     "text": [
      "8.41 ms ± 727 µs per loop (mean ± std. dev. of 7 runs, 10 loops each)\n"
     ]
    }
   ],
   "source": [
    "%%timeit -n 10\n",
    "model(valid_dl.dataset.X)"
   ]
  },
  {
   "cell_type": "code",
   "execution_count": 443,
   "metadata": {},
   "outputs": [],
   "source": [
    "model = get_model(pct_sparsity=0.97,use_gpu=False)\n",
    "model.load_state_dict(torch.load(\"unitsparse_sparsity_97.pth\"))"
   ]
  },
  {
   "cell_type": "markdown",
   "metadata": {},
   "source": [
    "Time for running 97% sparsity"
   ]
  },
  {
   "cell_type": "code",
   "execution_count": 444,
   "metadata": {},
   "outputs": [
    {
     "name": "stdout",
     "output_type": "stream",
     "text": [
      "5.24 ms ± 544 µs per loop (mean ± std. dev. of 7 runs, 10 loops each)\n"
     ]
    }
   ],
   "source": [
    "%%timeit -n 10\n",
    "model(valid_dl.dataset.X)"
   ]
  },
  {
   "cell_type": "code",
   "execution_count": 445,
   "metadata": {},
   "outputs": [],
   "source": [
    "model = get_model(pct_sparsity=0.99,use_gpu=False)\n",
    "model.load_state_dict(torch.load(\"unitsparse_sparsity_99.pth\"))"
   ]
  },
  {
   "cell_type": "markdown",
   "metadata": {},
   "source": [
    "Time for running 99% sparsity"
   ]
  },
  {
   "cell_type": "code",
   "execution_count": 446,
   "metadata": {},
   "outputs": [
    {
     "name": "stdout",
     "output_type": "stream",
     "text": [
      "3.78 ms ± 2.37 ms per loop (mean ± std. dev. of 7 runs, 10 loops each)\n"
     ]
    }
   ],
   "source": [
    "%%timeit -n 10\n",
    "model(valid_dl.dataset.X)"
   ]
  },
  {
   "cell_type": "code",
   "execution_count": 586,
   "metadata": {},
   "outputs": [],
   "source": [
    "model = get_model(use_gpu=False)\n",
    "model.load_state_dict(torch.load(\"unit_sparsity_0.pth\"))"
   ]
  },
  {
   "cell_type": "markdown",
   "metadata": {},
   "source": [
    "Time for running 0% sparsity"
   ]
  },
  {
   "cell_type": "code",
   "execution_count": 587,
   "metadata": {},
   "outputs": [
    {
     "name": "stdout",
     "output_type": "stream",
     "text": [
      "361 ms ± 34.4 ms per loop (mean ± std. dev. of 7 runs, 10 loops each)\n"
     ]
    }
   ],
   "source": [
    "%%timeit -n 10\n",
    "model(valid_dl.dataset.X)"
   ]
  }
 ],
 "metadata": {
  "kernelspec": {
   "display_name": "Python 3",
   "language": "python",
   "name": "python3"
  },
  "language_info": {
   "codemirror_mode": {
    "name": "ipython",
    "version": 3
   },
   "file_extension": ".py",
   "mimetype": "text/x-python",
   "name": "python",
   "nbconvert_exporter": "python",
   "pygments_lexer": "ipython3",
   "version": "3.6.7"
  }
 },
 "nbformat": 4,
 "nbformat_minor": 2
}
